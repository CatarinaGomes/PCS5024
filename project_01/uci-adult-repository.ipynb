{
 "cells": [
  {
   "cell_type": "markdown",
   "id": "842a31b9",
   "metadata": {},
   "source": [
    "# Project description"
   ]
  },
  {
   "cell_type": "markdown",
   "id": "a5b993ce",
   "metadata": {},
   "source": [
    "The aim of this project is to build machine learning classifiers to be used on the [Adult Dataset](https://archive.ics.uci.edu/ml/datasets/adult). kNN, random forest, classification trees and a Muli-Layer Perceptron model will be trained to predict whether a person income is more than US$50k/year or not. The accuracy, precision and recall for each classifier will be compared.\n",
    "\n",
    "The Adult Dataset consists of 48842 observations (with missing data) and 14 features. The UCI Repository already provides files for the training and testing sets (2/3 and 1/3 of total observations, respectively).\n",
    "\n",
    "## Problem\n",
    "\n",
    "Practice: Classifiers for the Adult Dataset\n",
    "\n",
    "1. Get the dataset Adult (either in the UCI Repository or in Kaggle).\n",
    "\n",
    "2. Analyze features, missing data, and overall characteristics of the dataset (using tools in sklearn). Select features, discretize numerical features, handle missing data. \n",
    "\n",
    "3. Build a kNN classifier to predict class variable \">50k\" (that is, whether person gets more than US$50k/year or not). Select the hyperparameter using cross-validation; test the final classifier using a holdout dataset.\n",
    "\n",
    "4. Repeat (3) using either a classification tree or a random forest.\n",
    "\n",
    "5. **Present accuracy, precision and recall for the best classifier in (3) and in (4).**\n",
    "\n",
    "6. Extra points: repeat (3) using a Multi-Layer Perceptron. "
   ]
  },
  {
   "cell_type": "markdown",
   "id": "d5b660d2",
   "metadata": {},
   "source": [
    "# Exploratory analysis"
   ]
  },
  {
   "cell_type": "code",
   "execution_count": 88,
   "id": "b0627174",
   "metadata": {},
   "outputs": [],
   "source": [
    "# Loading libraries\n",
    "import pandas as pd\n",
    "import numpy as np\n",
    "import matplotlib.pyplot as plt \n",
    "\n",
    "\n",
    "#from skleaerrn import metrics\n",
    "#from pandas.tools.plotting import scatter_matrix\n",
    "#import matplotlib.pyplot as plt\n",
    "#from sklearn import model_selection\n",
    "#from sklearn.metrics import classification_report\n",
    "#from sklearn.metrics import confusion_matrix\n",
    "#from sklearn.metrics import accuracy_score\n",
    "#from sklearn.linear_model import LogisticRegression\n",
    "#from sklearn.tree import DecisionTreeClassifier\n",
    "#from sklearn.ensemble import RandomForestClassifier\n",
    "#from sklearn.neighbors import KNeighborsClassifier\n",
    "#from sklearn.discriminant_analysis import LinearDiscriminantAnalysis\n",
    "#from sklearn.naive_bayes import GaussianNB\n",
    "#from sklearn import preprocessing\n",
    "#from sklearn.svm import SVC\n",
    "#from sklearn.cross_validation import train_test_split\n",
    "#from sklearn import tree"
   ]
  },
  {
   "cell_type": "code",
   "execution_count": 89,
   "id": "866d7837",
   "metadata": {},
   "outputs": [],
   "source": [
    "#Loading the test dataset\n",
    "df_train = pd.read_csv('./dataset/adult_data.csv', header=None)"
   ]
  },
  {
   "cell_type": "code",
   "execution_count": 90,
   "id": "0c50c7ea",
   "metadata": {},
   "outputs": [
    {
     "output_type": "execute_result",
     "data": {
      "text/plain": [
       "(32561, 15)"
      ]
     },
     "metadata": {},
     "execution_count": 90
    }
   ],
   "source": [
    "df_train.shape #32561 observations and 14 features "
   ]
  },
  {
   "cell_type": "code",
   "execution_count": 91,
   "id": "c4e0bbf9",
   "metadata": {},
   "outputs": [
    {
     "output_type": "execute_result",
     "data": {
      "text/plain": [
       "   0                  1       2           3   4                    5   \\\n",
       "0  39          State-gov   77516   Bachelors  13        Never-married   \n",
       "1  50   Self-emp-not-inc   83311   Bachelors  13   Married-civ-spouse   \n",
       "2  38            Private  215646     HS-grad   9             Divorced   \n",
       "3  53            Private  234721        11th   7   Married-civ-spouse   \n",
       "4  28            Private  338409   Bachelors  13   Married-civ-spouse   \n",
       "\n",
       "                   6               7       8        9     10  11  12  \\\n",
       "0        Adm-clerical   Not-in-family   White     Male  2174   0  40   \n",
       "1     Exec-managerial         Husband   White     Male     0   0  13   \n",
       "2   Handlers-cleaners   Not-in-family   White     Male     0   0  40   \n",
       "3   Handlers-cleaners         Husband   Black     Male     0   0  40   \n",
       "4      Prof-specialty            Wife   Black   Female     0   0  40   \n",
       "\n",
       "               13      14  \n",
       "0   United-States   <=50K  \n",
       "1   United-States   <=50K  \n",
       "2   United-States   <=50K  \n",
       "3   United-States   <=50K  \n",
       "4            Cuba   <=50K  "
      ],
      "text/html": "<div>\n<style scoped>\n    .dataframe tbody tr th:only-of-type {\n        vertical-align: middle;\n    }\n\n    .dataframe tbody tr th {\n        vertical-align: top;\n    }\n\n    .dataframe thead th {\n        text-align: right;\n    }\n</style>\n<table border=\"1\" class=\"dataframe\">\n  <thead>\n    <tr style=\"text-align: right;\">\n      <th></th>\n      <th>0</th>\n      <th>1</th>\n      <th>2</th>\n      <th>3</th>\n      <th>4</th>\n      <th>5</th>\n      <th>6</th>\n      <th>7</th>\n      <th>8</th>\n      <th>9</th>\n      <th>10</th>\n      <th>11</th>\n      <th>12</th>\n      <th>13</th>\n      <th>14</th>\n    </tr>\n  </thead>\n  <tbody>\n    <tr>\n      <th>0</th>\n      <td>39</td>\n      <td>State-gov</td>\n      <td>77516</td>\n      <td>Bachelors</td>\n      <td>13</td>\n      <td>Never-married</td>\n      <td>Adm-clerical</td>\n      <td>Not-in-family</td>\n      <td>White</td>\n      <td>Male</td>\n      <td>2174</td>\n      <td>0</td>\n      <td>40</td>\n      <td>United-States</td>\n      <td>&lt;=50K</td>\n    </tr>\n    <tr>\n      <th>1</th>\n      <td>50</td>\n      <td>Self-emp-not-inc</td>\n      <td>83311</td>\n      <td>Bachelors</td>\n      <td>13</td>\n      <td>Married-civ-spouse</td>\n      <td>Exec-managerial</td>\n      <td>Husband</td>\n      <td>White</td>\n      <td>Male</td>\n      <td>0</td>\n      <td>0</td>\n      <td>13</td>\n      <td>United-States</td>\n      <td>&lt;=50K</td>\n    </tr>\n    <tr>\n      <th>2</th>\n      <td>38</td>\n      <td>Private</td>\n      <td>215646</td>\n      <td>HS-grad</td>\n      <td>9</td>\n      <td>Divorced</td>\n      <td>Handlers-cleaners</td>\n      <td>Not-in-family</td>\n      <td>White</td>\n      <td>Male</td>\n      <td>0</td>\n      <td>0</td>\n      <td>40</td>\n      <td>United-States</td>\n      <td>&lt;=50K</td>\n    </tr>\n    <tr>\n      <th>3</th>\n      <td>53</td>\n      <td>Private</td>\n      <td>234721</td>\n      <td>11th</td>\n      <td>7</td>\n      <td>Married-civ-spouse</td>\n      <td>Handlers-cleaners</td>\n      <td>Husband</td>\n      <td>Black</td>\n      <td>Male</td>\n      <td>0</td>\n      <td>0</td>\n      <td>40</td>\n      <td>United-States</td>\n      <td>&lt;=50K</td>\n    </tr>\n    <tr>\n      <th>4</th>\n      <td>28</td>\n      <td>Private</td>\n      <td>338409</td>\n      <td>Bachelors</td>\n      <td>13</td>\n      <td>Married-civ-spouse</td>\n      <td>Prof-specialty</td>\n      <td>Wife</td>\n      <td>Black</td>\n      <td>Female</td>\n      <td>0</td>\n      <td>0</td>\n      <td>40</td>\n      <td>Cuba</td>\n      <td>&lt;=50K</td>\n    </tr>\n  </tbody>\n</table>\n</div>"
     },
     "metadata": {},
     "execution_count": 91
    }
   ],
   "source": [
    "df_train.head(5)"
   ]
  },
  {
   "cell_type": "code",
   "execution_count": 92,
   "id": "b7ab01c5",
   "metadata": {},
   "outputs": [],
   "source": [
    "#Loading the training dataset\n",
    "df_test = pd.read_csv('./dataset/adult_test.csv', header=None)"
   ]
  },
  {
   "cell_type": "code",
   "execution_count": 93,
   "id": "64080ae8",
   "metadata": {},
   "outputs": [
    {
     "output_type": "execute_result",
     "data": {
      "text/plain": [
       "(16281, 15)"
      ]
     },
     "metadata": {},
     "execution_count": 93
    }
   ],
   "source": [
    "df_test.shape #16281 observations and 14 features"
   ]
  },
  {
   "cell_type": "code",
   "execution_count": 94,
   "id": "d6c0d5f8",
   "metadata": {},
   "outputs": [
    {
     "output_type": "execute_result",
     "data": {
      "text/plain": [
       "   0           1       2              3   4                    5   \\\n",
       "0  25     Private  226802           11th   7        Never-married   \n",
       "1  38     Private   89814        HS-grad   9   Married-civ-spouse   \n",
       "2  28   Local-gov  336951     Assoc-acdm  12   Married-civ-spouse   \n",
       "3  44     Private  160323   Some-college  10   Married-civ-spouse   \n",
       "4  18           ?  103497   Some-college  10        Never-married   \n",
       "\n",
       "                   6           7       8        9     10  11  12  \\\n",
       "0   Machine-op-inspct   Own-child   Black     Male     0   0  40   \n",
       "1     Farming-fishing     Husband   White     Male     0   0  50   \n",
       "2     Protective-serv     Husband   White     Male     0   0  40   \n",
       "3   Machine-op-inspct     Husband   Black     Male  7688   0  40   \n",
       "4                   ?   Own-child   White   Female     0   0  30   \n",
       "\n",
       "               13       14  \n",
       "0   United-States   <=50K.  \n",
       "1   United-States   <=50K.  \n",
       "2   United-States    >50K.  \n",
       "3   United-States    >50K.  \n",
       "4   United-States   <=50K.  "
      ],
      "text/html": "<div>\n<style scoped>\n    .dataframe tbody tr th:only-of-type {\n        vertical-align: middle;\n    }\n\n    .dataframe tbody tr th {\n        vertical-align: top;\n    }\n\n    .dataframe thead th {\n        text-align: right;\n    }\n</style>\n<table border=\"1\" class=\"dataframe\">\n  <thead>\n    <tr style=\"text-align: right;\">\n      <th></th>\n      <th>0</th>\n      <th>1</th>\n      <th>2</th>\n      <th>3</th>\n      <th>4</th>\n      <th>5</th>\n      <th>6</th>\n      <th>7</th>\n      <th>8</th>\n      <th>9</th>\n      <th>10</th>\n      <th>11</th>\n      <th>12</th>\n      <th>13</th>\n      <th>14</th>\n    </tr>\n  </thead>\n  <tbody>\n    <tr>\n      <th>0</th>\n      <td>25</td>\n      <td>Private</td>\n      <td>226802</td>\n      <td>11th</td>\n      <td>7</td>\n      <td>Never-married</td>\n      <td>Machine-op-inspct</td>\n      <td>Own-child</td>\n      <td>Black</td>\n      <td>Male</td>\n      <td>0</td>\n      <td>0</td>\n      <td>40</td>\n      <td>United-States</td>\n      <td>&lt;=50K.</td>\n    </tr>\n    <tr>\n      <th>1</th>\n      <td>38</td>\n      <td>Private</td>\n      <td>89814</td>\n      <td>HS-grad</td>\n      <td>9</td>\n      <td>Married-civ-spouse</td>\n      <td>Farming-fishing</td>\n      <td>Husband</td>\n      <td>White</td>\n      <td>Male</td>\n      <td>0</td>\n      <td>0</td>\n      <td>50</td>\n      <td>United-States</td>\n      <td>&lt;=50K.</td>\n    </tr>\n    <tr>\n      <th>2</th>\n      <td>28</td>\n      <td>Local-gov</td>\n      <td>336951</td>\n      <td>Assoc-acdm</td>\n      <td>12</td>\n      <td>Married-civ-spouse</td>\n      <td>Protective-serv</td>\n      <td>Husband</td>\n      <td>White</td>\n      <td>Male</td>\n      <td>0</td>\n      <td>0</td>\n      <td>40</td>\n      <td>United-States</td>\n      <td>&gt;50K.</td>\n    </tr>\n    <tr>\n      <th>3</th>\n      <td>44</td>\n      <td>Private</td>\n      <td>160323</td>\n      <td>Some-college</td>\n      <td>10</td>\n      <td>Married-civ-spouse</td>\n      <td>Machine-op-inspct</td>\n      <td>Husband</td>\n      <td>Black</td>\n      <td>Male</td>\n      <td>7688</td>\n      <td>0</td>\n      <td>40</td>\n      <td>United-States</td>\n      <td>&gt;50K.</td>\n    </tr>\n    <tr>\n      <th>4</th>\n      <td>18</td>\n      <td>?</td>\n      <td>103497</td>\n      <td>Some-college</td>\n      <td>10</td>\n      <td>Never-married</td>\n      <td>?</td>\n      <td>Own-child</td>\n      <td>White</td>\n      <td>Female</td>\n      <td>0</td>\n      <td>0</td>\n      <td>30</td>\n      <td>United-States</td>\n      <td>&lt;=50K.</td>\n    </tr>\n  </tbody>\n</table>\n</div>"
     },
     "metadata": {},
     "execution_count": 94
    }
   ],
   "source": [
    "df_test.head(5)"
   ]
  },
  {
   "cell_type": "code",
   "execution_count": 95,
   "id": "d0453d06",
   "metadata": {},
   "outputs": [
    {
     "output_type": "execute_result",
     "data": {
      "text/plain": [
       "(48842, 15)"
      ]
     },
     "metadata": {},
     "execution_count": 95
    }
   ],
   "source": [
    "#The dataset will be splited into training and test after the preprocessing step\n",
    "df = pd.concat([df_train, df_test])\n",
    "df.shape"
   ]
  },
  {
   "cell_type": "code",
   "execution_count": 96,
   "id": "2100c041",
   "metadata": {},
   "outputs": [],
   "source": [
    "#Change colnames\n",
    "df = df.rename(columns={\n",
    "    0:\"age\",\n",
    "    1:\"workclass\",\n",
    "    2:\"fnlwgt\",\n",
    "    3:\"education\",\n",
    "    4:\"education-num\",\n",
    "    5:\"matrial-status\",\n",
    "    6:\"occupation\",\n",
    "    7:\"relationship\",\n",
    "    8:\"race\",\n",
    "    9:\"sex\",\n",
    "    10:\"capital-gain\",\n",
    "    11:\"capital-loss\",\n",
    "    12:\"hours-per-week\",\n",
    "    13:\"native-country\",\n",
    "    14:\"income\"\n",
    "})"
   ]
  },
  {
   "cell_type": "code",
   "execution_count": 97,
   "metadata": {},
   "outputs": [],
   "source": [
    "#df.select_dtypes(include=\"object\").apply(pd.unique)"
   ]
  },
  {
   "cell_type": "code",
   "execution_count": 98,
   "id": "00d89677",
   "metadata": {},
   "outputs": [
    {
     "output_type": "execute_result",
     "data": {
      "text/plain": [
       "age                int64\n",
       "workclass         object\n",
       "fnlwgt             int64\n",
       "education         object\n",
       "education-num      int64\n",
       "matrial-status    object\n",
       "occupation        object\n",
       "relationship      object\n",
       "race              object\n",
       "sex               object\n",
       "capital-gain       int64\n",
       "capital-loss       int64\n",
       "hours-per-week     int64\n",
       "native-country    object\n",
       "income            object\n",
       "dtype: object"
      ]
     },
     "metadata": {},
     "execution_count": 98
    }
   ],
   "source": [
    "#Verify the class of each feature\n",
    "df.dtypes"
   ]
  },
  {
   "cell_type": "code",
   "execution_count": 103,
   "metadata": {},
   "outputs": [
    {
     "output_type": "stream",
     "name": "stdout",
     "text": [
      "\n## workclass ##\n Private             69.419762\n Self-emp-not-inc     7.907129\n Local-gov            6.420703\n ?                    5.730724\n State-gov            4.055935\n Self-emp-inc         3.470374\n Federal-gov          2.931903\n Without-pay          0.042996\n Never-worked         0.020474\nName: workclass, dtype: float64\n\n## education ##\n HS-grad         32.316449\n Some-college    22.271815\n Bachelors       16.430531\n Masters          5.439990\n Assoc-voc        4.219729\n 11th             3.709922\n Assoc-acdm       3.277917\n 10th             2.843864\n 7th-8th          1.955284\n Prof-school      1.707547\n 9th              1.547848\n 12th             1.345154\n Doctorate        1.216166\n 5th-6th          1.042136\n 1st-4th          0.505712\n Preschool        0.169936\nName: education, dtype: float64\n\n## matrial-status ##\n Married-civ-spouse       45.819172\n Never-married            32.998239\n Divorced                 13.580525\n Separated                 3.132550\n Widowed                   3.107981\n Married-spouse-absent     1.285779\n Married-AF-spouse         0.075754\nName: matrial-status, dtype: float64\n\n## occupation ##\n Prof-specialty       12.636665\n Craft-repair         12.513820\n Exec-managerial      12.460587\n Adm-clerical         11.488064\n Sales                11.268990\n Other-service        10.079440\n Machine-op-inspct     6.187298\n ?                     5.751198\n Transport-moving      4.821670\n Handlers-cleaners     4.242251\n Farming-fishing       3.050653\n Tech-support          2.960567\n Protective-serv       2.012612\n Priv-house-serv       0.495475\n Armed-Forces          0.030711\nName: occupation, dtype: float64\n\n## relationship ##\n Husband           40.366897\n Not-in-family     25.762663\n Own-child         15.521477\n Unmarried         10.493018\n Wife               4.772532\n Other-relative     3.083412\nName: relationship, dtype: float64\n\n## race ##\n White                 85.504279\n Black                  9.592154\n Asian-Pac-Islander     3.110028\n Amer-Indian-Eskimo     0.962287\n Other                  0.831252\nName: race, dtype: float64\n\n## sex ##\n Male      66.848204\n Female    33.151796\nName: sex, dtype: float64\n\n## native-country ##\n United-States                 89.742435\n Mexico                         1.947095\n ?                              1.754637\n Philippines                    0.603988\n Germany                        0.421768\n Puerto-Rico                    0.376725\n Canada                         0.372630\n El-Salvador                    0.317350\n India                          0.309160\n Cuba                           0.282544\n England                        0.260022\n China                          0.249785\n South                          0.235453\n Jamaica                        0.217026\n Italy                          0.214979\n Dominican-Republic             0.210884\n Japan                          0.188362\n Guatemala                      0.180173\n Poland                         0.178125\n Vietnam                        0.176078\n Columbia                       0.174031\n Haiti                          0.153556\n Portugal                       0.137177\n Taiwan                         0.133082\n Iran                           0.120798\n Nicaragua                      0.100323\n Greece                         0.100323\n Peru                           0.094181\n Ecuador                        0.092134\n France                         0.077802\n Ireland                        0.075754\n Hong                           0.061423\n Thailand                       0.061423\n Cambodia                       0.057328\n Trinadad&Tobago                0.055280\n Laos                           0.047091\n Yugoslavia                     0.047091\n Outlying-US(Guam-USVI-etc)     0.047091\n Scotland                       0.042996\n Honduras                       0.040948\n Hungary                        0.038901\n Holand-Netherlands             0.002047\nName: native-country, dtype: float64\n\n## income ##\n <=50K     50.612178\n <=50K.    25.459645\n >50K      16.053806\n >50K.      7.874370\nName: income, dtype: float64\n"
     ]
    },
    {
     "output_type": "execute_result",
     "data": {
      "text/plain": [
       "[None, None, None, None, None, None, None, None, None]"
      ]
     },
     "metadata": {},
     "execution_count": 103
    }
   ],
   "source": [
    "#Verify the levels of categorial data and respectively frequency\n",
    "[print(f\"\\n## {column} ##\\n{df[column].value_counts(normalize=True)*100}\") for column in df.select_dtypes(include=['object'])]"
   ]
  },
  {
   "cell_type": "code",
   "execution_count": 100,
   "metadata": {},
   "outputs": [
    {
     "output_type": "execute_result",
     "data": {
      "text/plain": [
       "age               False\n",
       "workclass         False\n",
       "fnlwgt            False\n",
       "education         False\n",
       "education-num     False\n",
       "matrial-status    False\n",
       "occupation        False\n",
       "relationship      False\n",
       "race              False\n",
       "sex               False\n",
       "capital-gain      False\n",
       "capital-loss      False\n",
       "hours-per-week    False\n",
       "native-country    False\n",
       "income            False\n",
       "dtype: bool"
      ]
     },
     "metadata": {},
     "execution_count": 100
    }
   ],
   "source": [
    "#Checking for missing data reported as NA\n",
    "df.isna().any()"
   ]
  },
  {
   "cell_type": "code",
   "execution_count": 107,
   "metadata": {},
   "outputs": [
    {
     "output_type": "execute_result",
     "data": {
      "text/plain": [
       "0         United-States\n",
       "1         United-States\n",
       "2         United-States\n",
       "3         United-States\n",
       "4                  Cuba\n",
       "              ...      \n",
       "16276     United-States\n",
       "16277     United-States\n",
       "16278     United-States\n",
       "16279     United-States\n",
       "16280     United-States\n",
       "Name: native-country, Length: 48842, dtype: object"
      ]
     },
     "metadata": {},
     "execution_count": 107
    }
   ],
   "source": [
    "# Remove observations with unknown values (reported as \"?\")\n",
    "df['native-country'].replace(\"?\", np.NaN)"
   ]
  },
  {
   "cell_type": "markdown",
   "id": "8d59fb44",
   "metadata": {},
   "source": [
    "# Preprocessing data"
   ]
  }
 ],
 "metadata": {
  "kernelspec": {
   "display_name": "venv",
   "language": "python",
   "name": "venv"
  },
  "language_info": {
   "codemirror_mode": {
    "name": "ipython",
    "version": 3
   },
   "file_extension": ".py",
   "mimetype": "text/x-python",
   "name": "python",
   "nbconvert_exporter": "python",
   "pygments_lexer": "ipython3",
   "version": "3.8.5"
  }
 },
 "nbformat": 4,
 "nbformat_minor": 5
}